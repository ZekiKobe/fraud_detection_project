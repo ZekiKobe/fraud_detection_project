{
 "cells": [
  {
   "cell_type": "markdown",
   "id": "590edde6",
   "metadata": {},
   "source": [
    "### Data processing"
   ]
  },
  {
   "cell_type": "code",
   "execution_count": 6,
   "id": "8c2f8ee9",
   "metadata": {},
   "outputs": [
    {
     "name": "stdout",
     "output_type": "stream",
     "text": [
      "c:\\Users\\gagur\\Videos\\fraud_detection_project\\env\\Scripts\\python.exe\n"
     ]
    }
   ],
   "source": [
    "# Import libraries\n",
    "import pandas as pd\n",
    "import numpy as np\n",
    "import sys\n",
    "print(sys.executable)\n",
    "import matplotlib.pyplot as plt\n",
    "import seaborn as sns\n",
    "from datetime import datetime\n",
    "\n",
    "# Load datasets\n",
    "fraud_data = pd.read_csv('../data/raw/Fraud_Data.csv')\n",
    "ip_country = pd.read_csv('../data/raw/IpAddress_to_Country.csv')\n",
    "credit_data = pd.read_csv('../data/raw/creditcard.csv')\n",
    "\n",
    "# Data cleaning functions\n",
    "def clean_fraud_data(df):\n",
    "    # Handle missing values\n",
    "    df = df.dropna()\n",
    "    \n",
    "    # Convert timestamps\n",
    "    df['signup_time'] = pd.to_datetime(df['signup_time'])\n",
    "    df['purchase_time'] = pd.to_datetime(df['purchase_time'])\n",
    "    \n",
    "    # Remove duplicates\n",
    "    df = df.drop_duplicates()\n",
    "    \n",
    "    return df\n",
    "\n",
    "def clean_credit_data(df):\n",
    "    # No missing values in this dataset\n",
    "    # Scale the 'Amount' feature\n",
    "    from sklearn.preprocessing import StandardScaler\n",
    "    scaler = StandardScaler()\n",
    "    df['Amount'] = scaler.fit_transform(df['Amount'].values.reshape(-1, 1))\n",
    "    \n",
    "    return df\n",
    "\n",
    "# Apply cleaning\n",
    "fraud_data_clean = clean_fraud_data(fraud_data)\n",
    "credit_data_clean = clean_credit_data(credit_data)\n",
    "\n",
    "# Save cleaned data\n",
    "fraud_data_clean.to_csv('../data/processed/fraud_data_clean.csv', index=False)\n",
    "credit_data_clean.to_csv('../data/processed/credit_data_clean.csv', index=False)"
   ]
  }
 ],
 "metadata": {
  "kernelspec": {
   "display_name": "env",
   "language": "python",
   "name": "python3"
  },
  "language_info": {
   "codemirror_mode": {
    "name": "ipython",
    "version": 3
   },
   "file_extension": ".py",
   "mimetype": "text/x-python",
   "name": "python",
   "nbconvert_exporter": "python",
   "pygments_lexer": "ipython3",
   "version": "3.12.10"
  }
 },
 "nbformat": 4,
 "nbformat_minor": 5
}
